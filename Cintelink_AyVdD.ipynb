{
  "nbformat": 4,
  "nbformat_minor": 0,
  "metadata": {
    "colab": {
      "name": "Cintelink - AyVdD.ipynb",
      "provenance": [],
      "collapsed_sections": [],
      "toc_visible": true,
      "include_colab_link": true
    },
    "kernelspec": {
      "name": "python3",
      "display_name": "Python 3"
    },
    "language_info": {
      "name": "python"
    }
  },
  "cells": [
    {
      "cell_type": "markdown",
      "metadata": {
        "id": "view-in-github",
        "colab_type": "text"
      },
      "source": [
        "<a href=\"https://colab.research.google.com/github/martinoscarrodriguez/Analisis_y_Visualizacion_TP/blob/main/Cintelink_AyVdD.ipynb\" target=\"_parent\"><img src=\"https://colab.research.google.com/assets/colab-badge.svg\" alt=\"Open In Colab\"/></a>"
      ]
    },
    {
      "cell_type": "markdown",
      "metadata": {
        "id": "_wGzY26hLRzh"
      },
      "source": [
        "# Análisis y Visualización de Datos "
      ]
    },
    {
      "cell_type": "code",
      "metadata": {
        "id": "hf4hd_V5KTZk"
      },
      "source": [
        "import io\n",
        "import matplotlib\n",
        "import matplotlib.pyplot as plt\n",
        "import numpy\n",
        "import pandas as pd\n",
        "import seaborn\n",
        "from datetime import datetime, timedelta\n",
        "\n",
        "seaborn.set_context('talk')\n",
        "# Set float format\n",
        "pd.set_option('display.float_format','{:.2f}'.format)\n",
        "\n",
        "# Set style\n",
        "seaborn.set_style(\"darkgrid\")\n",
        "seaborn.set_palette('pastel')\n",
        "seaborn.set_context(\"paper\", rc={\"font.size\":12,\"axes.titlesize\":12,\"axes.labelsize\":12}) "
      ],
      "execution_count": null,
      "outputs": []
    },
    {
      "cell_type": "code",
      "metadata": {
        "id": "WLRwaIbAWiU2"
      },
      "source": [
        "from google.colab import drive\n",
        "drive.mount('/content/drive')"
      ],
      "execution_count": null,
      "outputs": []
    },
    {
      "cell_type": "code",
      "metadata": {
        "id": "fkywFvhUzGok"
      },
      "source": [
        "def convert2float32(n):\n",
        "    try:\n",
        "        return numpy.float32(n)\n",
        "    except:\n",
        "        return numpy.nan\n",
        "\n",
        "def convert2float16(n):\n",
        "    try:\n",
        "        return numpy.float16(n)\n",
        "    except:\n",
        "        return numpy.nan\n",
        "\n",
        "def convert2int16(n):\n",
        "    try:\n",
        "        return numpy.int16(n)\n",
        "    except:\n",
        "        return numpy.nan\n",
        "\n",
        "def convert2int8(n):\n",
        "    try:\n",
        "        return numpy.int8(n)\n",
        "    except:\n",
        "        return numpy.nan"
      ],
      "execution_count": null,
      "outputs": []
    },
    {
      "cell_type": "code",
      "metadata": {
        "id": "BSjlCmpGQz8C"
      },
      "source": [
        "dtypes = {\n",
        "    \"id\": \"category\",\n",
        "    \"id_equipo\": \"category\",\n",
        "    \"id_tanque\": \"category\",\n",
        "    \"producto\": \"category\",\n",
        "    \"id_empresa\": \"category\",\n",
        "    \"id_canal\": \"category\",\n",
        "    \"nombre_producto\": \"category\",\n",
        "    \"industria\": \"category\",\n",
        "    \"alarma\": \"boolean\"\n",
        "}\n",
        "\n",
        "# Para evitar datos erróneos en el parsing\n",
        "converters = {\n",
        "    \"id_industria\": convert2float16,\n",
        "    \"volumen\": convert2float32,\n",
        "    \"vbat1\": convert2int16,\n",
        "    \"vbat2\": convert2int16,\n",
        "    \"capacidad\": convert2float32,\n",
        "    \"fuel_level_dmm\": convert2float32,\n",
        "    \"water_level_dmm\": convert2float32,\n",
        "    \"water_volume_lts\": convert2float32,\n",
        "    \"temp5\": convert2float16,\n",
        "    \"temp4\": convert2float16,\n",
        "    \"temp3\": convert2float16,\n",
        "    \"temp2\": convert2float16,\n",
        "    \"temp1\": convert2float16,\n",
        "    \"temperatura\": convert2float16,\n",
        "    \"coef_var_vol\": convert2float16,\n",
        "    \"density\": convert2float32\n",
        "}"
      ],
      "execution_count": null,
      "outputs": []
    },
    {
      "cell_type": "code",
      "metadata": {
        "id": "30eTZXUVLblX"
      },
      "source": [
        "# filename = '/content/drive/MyDrive/Colab Notebooks/DiploDatos/Mentoría/Datasets/dataset100mil.csv'\n",
        "filename = '/content/drive/MyDrive/Colab Notebooks/DiploDatos/Mentoría/Datasets/StorageInventory_2021_Q1.csv'\n",
        "raw_df = pd.read_csv(filename, converters=converters, dtype=dtypes, parse_dates=[\"timestamp\"])"
      ],
      "execution_count": null,
      "outputs": []
    },
    {
      "cell_type": "code",
      "metadata": {
        "id": "DRT1Gm8k9Ov8"
      },
      "source": [
        "raw_df.info(memory_usage=\"deep\")"
      ],
      "execution_count": null,
      "outputs": []
    },
    {
      "cell_type": "code",
      "metadata": {
        "id": "kNih1F5dNyTt"
      },
      "source": [
        "raw_df.head()"
      ],
      "execution_count": null,
      "outputs": []
    },
    {
      "cell_type": "markdown",
      "metadata": {
        "id": "aTnf77l5UfiB"
      },
      "source": [
        "## Limpieza de datos"
      ]
    },
    {
      "cell_type": "markdown",
      "metadata": {
        "id": "746p7B5DIOOo"
      },
      "source": [
        "### Tipo de datos de columnas"
      ]
    },
    {
      "cell_type": "code",
      "metadata": {
        "id": "q7BTim8sH-MF"
      },
      "source": [
        "raw_df['volumen'] = raw_df['volumen'].astype(numpy.float32)\n",
        "raw_df['temperatura'] = raw_df['temperatura'].astype(numpy.float16)\n",
        "raw_df['temp5'] = raw_df['temp5'].astype(numpy.float16)\n",
        "raw_df['temp4'] = raw_df['temp4'].astype(numpy.float16)\n",
        "raw_df['temp3'] = raw_df['temp3'].astype(numpy.float16)\n",
        "raw_df['temp2'] = raw_df['temp2'].astype(numpy.float16)\n",
        "raw_df['temp1'] = raw_df['temp1'].astype(numpy.float16)\n",
        "raw_df['fuel_level_dmm'] = raw_df['fuel_level_dmm'].astype(numpy.float32)\n",
        "raw_df['water_level_dmm'] = raw_df['water_level_dmm'].astype(numpy.float32)\n",
        "raw_df['water_volume_lts'] = raw_df['water_volume_lts'].astype(numpy.float32)\n",
        "raw_df['capacidad'] = raw_df['capacidad'].astype(numpy.float32)\n",
        "raw_df['coef_var_vol'] = raw_df['coef_var_vol'].astype(numpy.float16)\n",
        "raw_df['density'] = raw_df['density'].astype(numpy.float16)\n",
        "raw_df['vbat1'] = raw_df['vbat1'].astype(numpy.int16)\n",
        "raw_df['vbat2'] = raw_df['vbat2'].astype(numpy.int16)\n",
        "raw_df['id_industria'] = raw_df['id_industria'].astype(\"category\")\n",
        "raw_df['codigo'] = raw_df['codigo'].astype(\"str\")"
      ],
      "execution_count": null,
      "outputs": []
    },
    {
      "cell_type": "code",
      "metadata": {
        "id": "jgUpihbZLGt5"
      },
      "source": [
        "raw_df.info(memory_usage=\"deep\")"
      ],
      "execution_count": null,
      "outputs": []
    },
    {
      "cell_type": "code",
      "metadata": {
        "id": "NeQnrGByLdkw"
      },
      "source": [
        "# Trabajamos sobre una copia y no sobre el original\n",
        "df = raw_df.copy()"
      ],
      "execution_count": null,
      "outputs": []
    },
    {
      "cell_type": "code",
      "metadata": {
        "id": "wrs21eEbohNC"
      },
      "source": [
        "# Si se llena la memoria, ejecutar\n",
        "del raw_df"
      ],
      "execution_count": null,
      "outputs": []
    },
    {
      "cell_type": "markdown",
      "metadata": {
        "id": "Ksc9o4sBPbWR"
      },
      "source": [
        "### Selección de columnas relevantes"
      ]
    },
    {
      "cell_type": "code",
      "metadata": {
        "id": "zBP7oflcPhcR"
      },
      "source": [
        ""
      ],
      "execution_count": null,
      "outputs": []
    },
    {
      "cell_type": "markdown",
      "metadata": {
        "id": "oXqJVWR1UiSy"
      },
      "source": [
        "### Valores faltantes\n",
        "\n",
        "Las columnas `volumen` y `temperatura`"
      ]
    },
    {
      "cell_type": "markdown",
      "metadata": {
        "id": "atMTgoRqHm7z"
      },
      "source": [
        "#### Volúmenes nulos"
      ]
    },
    {
      "cell_type": "code",
      "metadata": {
        "id": "M3G0X0JYY5Rj"
      },
      "source": [
        "nan = numpy.nan\n",
        "df.query(\"volumen == @nan\")"
      ],
      "execution_count": null,
      "outputs": []
    },
    {
      "cell_type": "markdown",
      "metadata": {
        "id": "4xKdwRjseKUx"
      },
      "source": [
        "#### Temperaturas nulas"
      ]
    },
    {
      "cell_type": "code",
      "metadata": {
        "id": "YMuSEuT3eUEY"
      },
      "source": [
        "nan = numpy.nan\n",
        "df.query(\"temperatura == @nan\")"
      ],
      "execution_count": null,
      "outputs": []
    },
    {
      "cell_type": "markdown",
      "metadata": {
        "id": "gyOE_7RQz6JX"
      },
      "source": [
        "#### Niveles de combustible, temperatura y códigos"
      ]
    },
    {
      "cell_type": "code",
      "metadata": {
        "id": "jNh9JPpO0Dfk"
      },
      "source": [
        "#análisis de intersección nan entre variables\n",
        "df[df['temperatura'].isna()&df['codigo'].isna()&~df['fuel_level_dmm'].isna()]"
      ],
      "execution_count": null,
      "outputs": []
    },
    {
      "cell_type": "markdown",
      "metadata": {
        "id": "viQNXM2zXbBp"
      },
      "source": [
        "### Eliminación de outliers"
      ]
    },
    {
      "cell_type": "markdown",
      "metadata": {
        "id": "JpaeFTCt0hMt"
      },
      "source": [
        "#### Filtrado de valores erróneos\n",
        "A partir de la exploración de los datos definimos algunos criterios para el filtrado de nuestra base de datos. Por un lado, pudimos observar que la variable `volumen` posee valores mínimos negativos y que su máximo valor sobrepasa el valor máximo de la capacidad de los tanques, por lo que difinimos la primera y segunda condición de filtrado (cond_1 y cond_2) y nos quedamos con valores de volúmenes mayores o iguales a cero y menores a la capacidad máxima. Por otro lado, vimos que cuando la carga de alguna de las dos baterías es cero el nivel de combustible también es cero o produce valores nulos (nan) por lo que no se estaría estimando correctamente el valor de volumen, definiendo de esta manera las condidiones 3 y 4 (cond_3 y cond_4). Por último, no tuvimos en cuenta los valores nulos de código porque inferimos que el sensor no está funcionando y esto coincide con la existencia de valures nulos de temperatura y de nivel de combustible (cond_5)."
      ]
    },
    {
      "cell_type": "code",
      "metadata": {
        "id": "yB7UKCmG0uxL"
      },
      "source": [
        "# Volúmenes negativos\n",
        "cond_1 = df[\"volumen\"] >= 0\n",
        "\n",
        "# Volúmenes mayores a la capacidad del tanque\n",
        "cond_2 = df[\"volumen\"] < df[\"capacidad\"].max()\n",
        "\n",
        "# Voltaje del pulso de eco 0\n",
        "cond_3 = df[\"vbat1\"] != 0\n",
        "\n",
        "# Batería con voltaje 0\n",
        "cond_4 = df[\"vbat2\"] != 0\n",
        "\n",
        "# Esto lo pondría arriba, con los valores nulos\n",
        "cond_5 = ~df['codigo'].isna()"
      ],
      "execution_count": null,
      "outputs": []
    },
    {
      "cell_type": "code",
      "metadata": {
        "id": "oSI5OloU_dsY"
      },
      "source": [
        "df = df[cond_1 & cond_2 & cond_3 & cond_4 & cond_5]\n",
        "df.head()"
      ],
      "execution_count": null,
      "outputs": []
    },
    {
      "cell_type": "code",
      "metadata": {
        "id": "MtVcUTm8AJn7"
      },
      "source": [
        "df.info()"
      ],
      "execution_count": null,
      "outputs": []
    },
    {
      "cell_type": "code",
      "metadata": {
        "id": "wKxWB5DIAaZE"
      },
      "source": [
        "df.describe().round()"
      ],
      "execution_count": null,
      "outputs": []
    },
    {
      "cell_type": "code",
      "metadata": {
        "id": "WDM7GCW6BAyf"
      },
      "source": [
        "f, (ax_box, ax_hist) = plt.subplots(2, sharex=True, figsize=(15,9),gridspec_kw={\"height_ratios\": (.15, .85)})\n",
        " \n",
        "seaborn.boxplot(df.volumen, ax=ax_box)\n",
        "seaborn.distplot(df.volumen, ax=ax_hist, kde=False, hist=False)\n",
        "seaborn.distplot(df.volumen, ax=ax_hist, kde=True, hist=True,norm_hist=False)\n",
        "\n",
        "plt.axvline(df.volumen.quantile(0.25))\n",
        "plt.axvline(df.volumen.quantile(0.50),color='g')\n",
        "plt.axvline(df.volumen.quantile(0.75))\n",
        "plt.ticklabel_format(style='plain', axis='x') \n",
        "plt.axvline(df.volumen.mean(),color='red') \n",
        "ax_box.set_title\n",
        "plt.show()"
      ],
      "execution_count": null,
      "outputs": []
    },
    {
      "cell_type": "markdown",
      "metadata": {
        "id": "6KI4or86C3vk"
      },
      "source": [
        "#### Filtrado teniendo en cuenta el rango intercuartílico"
      ]
    },
    {
      "cell_type": "code",
      "metadata": {
        "id": "mSRSRbviBWm9"
      },
      "source": [
        "q1 = df.volumen.quantile(0.25)\n",
        "q3 = df.volumen.quantile(0.75)\n",
        "RI = q3 - q1\n",
        "min = q1 - 2.5*RI\n",
        "max = q3 + 2.5*RI\n",
        "print(\"Límite inferior =\", min)\n",
        "print(\"Límite superior =\", max)"
      ],
      "execution_count": null,
      "outputs": []
    },
    {
      "cell_type": "code",
      "metadata": {
        "id": "8TTsbrkBBuOP"
      },
      "source": [
        "df = df[df.volumen < max]\n",
        "df.head()"
      ],
      "execution_count": null,
      "outputs": []
    },
    {
      "cell_type": "markdown",
      "metadata": {
        "id": "KFVQJuooGvpL"
      },
      "source": [
        "#### Filtrado teniendo en cuenta el la desviación estándar"
      ]
    },
    {
      "cell_type": "code",
      "metadata": {
        "id": "k7ZocByhBmSr"
      },
      "source": [
        "vol_mean = df.volumen.mean()\n",
        "vol_std = df.volumen.std()\n",
        "min_s = vol_mean - 2.5 * vol_std\n",
        "max_s = vol_mean + 2.5 * vol_std\n",
        "print(\"Límite inferior =\", min_s)\n",
        "print(\"Límite superior =\", max_s)"
      ],
      "execution_count": null,
      "outputs": []
    },
    {
      "cell_type": "code",
      "metadata": {
        "id": "w2Z4PSSpBptC"
      },
      "source": [
        "df = df[df.volumen < max_s]\n",
        "df.head()"
      ],
      "execution_count": null,
      "outputs": []
    },
    {
      "cell_type": "code",
      "metadata": {
        "id": "Xw9baanmB6-r"
      },
      "source": [
        "f, (ax_box, ax_hist) = plt.subplots(2, sharex=True, figsize=(15,9),gridspec_kw={\"height_ratios\": (.15, .85)})\n",
        " \n",
        "seaborn.boxplot(df.volumen, ax=ax_box)\n",
        "seaborn.distplot(df.volumen, ax=ax_hist, kde=False, hist=False)\n",
        "seaborn.distplot(df.volumen, ax=ax_hist, kde=True, hist=True,norm_hist=False)\n",
        "\n",
        "plt.axvline(df.volumen.quantile(0.25))\n",
        "plt.axvline(df.volumen.quantile(0.50),color='g')\n",
        "plt.axvline(df.volumen.quantile(0.75))\n",
        "plt.ticklabel_format(style='plain', axis='x') \n",
        "plt.axvline(df.volumen.mean(),color='red') \n",
        "ax_box.set_title\n",
        "plt.show()"
      ],
      "execution_count": null,
      "outputs": []
    },
    {
      "cell_type": "markdown",
      "metadata": {
        "id": "Xcx3MXkHg509"
      },
      "source": [
        "#### Filtrado de registros con códigos de error\n",
        "\n",
        "Quitamos aquellos registros que contengan códigos de error. Para esto, separamos la columna `codigo` en dos campos, ya que la misma contiene además información de la cantidad de ecos.\n",
        "\n",
        "Se deja la [documentación](#) sobre los significados de estos códigos."
      ]
    },
    {
      "cell_type": "code",
      "metadata": {
        "id": "f-DTsqAGdLcx"
      },
      "source": [
        "df['codigo'].unique()"
      ],
      "execution_count": null,
      "outputs": []
    },
    {
      "cell_type": "code",
      "metadata": {
        "id": "7g2ObslFchS6"
      },
      "source": [
        "# Separamos el código en dos datos\n",
        "df['c'] = df['codigo'].apply(lambda x: str(x)[0])\n",
        "df['echoes'] = pd.to_numeric(df['codigo'].apply(lambda x: str(x)[1]), errors='coerce')"
      ],
      "execution_count": null,
      "outputs": []
    },
    {
      "cell_type": "markdown",
      "metadata": {
        "id": "UwBgatKpPv7P"
      },
      "source": [
        "Veamos si quitar los valores con códigos de error obtenemos los mismos resultados que mantener los valores con códigos correctos."
      ]
    },
    {
      "cell_type": "code",
      "metadata": {
        "id": "m4k4bmBCZpHt"
      },
      "source": [
        "ok_codes = ['N', 'L', 'V', 'U', 'P', 'T', 'A', 'I', '0']\n",
        "error_codes = ['m', 'M', 'F']"
      ],
      "execution_count": null,
      "outputs": []
    },
    {
      "cell_type": "code",
      "metadata": {
        "id": "VjT4Oh0coTuX"
      },
      "source": [
        "# Obtenemos el mismo resultado?\n",
        "print(\"Manteniendo los valores correctos:\", len(df.query(\"c not in @ok_codes\")))\n",
        "print(\"Quitando los valores de error:\", len(df.query(\"c in @error_codes\")))"
      ],
      "execution_count": null,
      "outputs": []
    },
    {
      "cell_type": "markdown",
      "metadata": {
        "id": "cxQfVyOVZxyX"
      },
      "source": [
        "Obtenemos los mismo resultado, elegimos uno de ellos."
      ]
    },
    {
      "cell_type": "code",
      "metadata": {
        "id": "RPM1-EI9ZZmg"
      },
      "source": [
        "df = df.query(\"c in @ok_codes\")\n",
        "len(df)"
      ],
      "execution_count": null,
      "outputs": []
    },
    {
      "cell_type": "markdown",
      "metadata": {
        "id": "cbs91dAfhBJN"
      },
      "source": [
        "#### Filtrado de registros con ecos cero y ecos mayores a dos\n",
        "\n",
        "La cantidad de ecos corresponde a la cantidad de señales recibidas en el transmisor.\n",
        "\n",
        "Si el valor es cero, puede haber ocurrido dos cosas:\n",
        "- Son sondas de presión, es decir, este tipo de sondas funcionan de manera distinta y la cantidad de ecos no corresponde.\n",
        "- Los datos enviados son erróneos."
      ]
    },
    {
      "cell_type": "code",
      "metadata": {
        "id": "_kUjs3d6b21y"
      },
      "source": [
        "df = df.query(\"echoes != 0\")\n",
        "len(df)"
      ],
      "execution_count": null,
      "outputs": []
    },
    {
      "cell_type": "markdown",
      "metadata": {
        "id": "SIDt_EF9RTMq"
      },
      "source": [
        "Los ecos mayores a dos son erróneos, ya que actualmente la cantidad de mediciones que se realizan son una o dos. Si reporta dos ecos, la sonda, además de medir el líquido principal (generalmente combustible), mide agua."
      ]
    },
    {
      "cell_type": "code",
      "metadata": {
        "id": "9NP_H6vBRSW0"
      },
      "source": [
        "df = df.query(\"echoes <= 2\")\n",
        "len(df)"
      ],
      "execution_count": null,
      "outputs": []
    },
    {
      "cell_type": "markdown",
      "metadata": {
        "id": "gU3DnvfPhHi3"
      },
      "source": [
        "#### Filtrado por pérdida de ecos en un mismo tanque\n",
        "Cuando se pierden señales de eco en sondas que sólo miden un líquido, el código mostrará valores ceros durante esas pérdidas. Pero, ¿qué sucede si la sonda mide dos líquidos y pierde una de las señales? La sonda reportará un valor normal (uno), pero que resulta incorrecto para esta sonda.\n",
        "\n",
        "No podemos solamente limitarnos a filtrar aquellos con ecos cero, debemos además quitar aquellos que debían ser dos y fue sólo una. Este análisis se hará por tanque.\n"
      ]
    },
    {
      "cell_type": "code",
      "metadata": {
        "id": "6GZ67nLgCX2b"
      },
      "source": [
        ""
      ],
      "execution_count": null,
      "outputs": []
    },
    {
      "cell_type": "markdown",
      "metadata": {
        "id": "dlpYXTtACYM9"
      },
      "source": [
        "#### Filtrado por rango intercuartílico en el tiempo\n",
        "Calculamos el rango intercuartílico del `volumen`. https://anomaly.io/anomaly-detection-moving-median-decomposition/index.html"
      ]
    },
    {
      "cell_type": "code",
      "metadata": {
        "id": "-e6YeU2WqBOU"
      },
      "source": [
        "window = 5\n",
        "df['moving_median'] = df.groupby('id_tanque')['volumen'].transform(\n",
        "    lambda x: x.rolling(window=5, min_periods=1, center=True).median()\n",
        ")\n",
        "df['q1'] = df.groupby('id_tanque')['volumen'].transform(\n",
        "    lambda x: x.rolling(window=5, min_periods=1, center=True).quantile(0.25)\n",
        ")\n",
        "df['q3'] = df.groupby('id_tanque')['volumen'].transform(\n",
        "    lambda x: x.rolling(window=5, min_periods=1, center=True).quantile(0.75)\n",
        ")\n",
        "df['RI'] = df['q3'] - df['q1']\n",
        "df['RI_min'] = df['q1'] - 2.5*df['RI']\n",
        "df['RI_max'] = df['q3'] + 2.5*df['RI']\n",
        "df.tail()"
      ],
      "execution_count": null,
      "outputs": []
    },
    {
      "cell_type": "code",
      "metadata": {
        "id": "bkX6ooeOuB8W"
      },
      "source": [
        "fig = plt.figure(figsize=(15, 7))\n",
        "seaborn.lineplot(\n",
        "    data=df[df['id_tanque'] == df['id_tanque'].cat.categories[0]][24000:33900], \n",
        "    y='volumen', \n",
        "    x='timestamp' \n",
        ")\n",
        "seaborn.lineplot(\n",
        "    data=df[df['id_tanque'] == df['id_tanque'].cat.categories[0]][24000:33900], \n",
        "    y='moving_median', \n",
        "    x='timestamp' \n",
        ")\n",
        "seaborn.lineplot(\n",
        "    data=df[df['id_tanque'] == df['id_tanque'].cat.categories[0]][24000:33900], \n",
        "    y='RI_min', \n",
        "    x='timestamp' \n",
        ")\n",
        "seaborn.lineplot(\n",
        "    data=df[df['id_tanque'] == df['id_tanque'].cat.categories[0]][24000:33900], \n",
        "    y='RI_max', \n",
        "    x='timestamp' \n",
        ")\n",
        "plt.ticklabel_format(style='plain', axis='y')\n",
        "seaborn.despine()"
      ],
      "execution_count": null,
      "outputs": []
    },
    {
      "cell_type": "markdown",
      "metadata": {
        "id": "x9oS1Jg-R-Bf"
      },
      "source": [
        "Quitamos entonces < RI * 2.5, > RI * 2.5"
      ]
    },
    {
      "cell_type": "code",
      "metadata": {
        "id": "5dm_RC7yR9bu"
      },
      "source": [
        "# df = df.query(\"volumen < RI_min\")\n",
        "# df = df.query(\"volumen > RI_max\")\n",
        "# len(df)"
      ],
      "execution_count": null,
      "outputs": []
    },
    {
      "cell_type": "markdown",
      "metadata": {
        "id": "QzCYizyKS1ag"
      },
      "source": [
        "## Análisis de correlación entre las variables numéricas"
      ]
    },
    {
      "cell_type": "code",
      "metadata": {
        "id": "phQpWwsAoTTP"
      },
      "source": [
        "df_cor=df_fil_out.corr(method=\"spearman\")\n",
        "df_cor"
      ],
      "execution_count": null,
      "outputs": []
    },
    {
      "cell_type": "code",
      "metadata": {
        "id": "JtrNhIfdodVB"
      },
      "source": [
        "plt.figure(figsize=(15,15))\n",
        "seaborn.heatmap(df_cor, cbar = True,  square = True, annot=True, fmt= '.2f',annot_kws={'size': 15},\n",
        "           cmap= 'coolwarm')\n",
        "plt.xticks(rotation = 45)\n",
        "plt.yticks(rotation = 45)\n",
        "plt.show()"
      ],
      "execution_count": null,
      "outputs": []
    },
    {
      "cell_type": "markdown",
      "metadata": {
        "id": "fDo3cVf6UWvr"
      },
      "source": [
        "A partir del análisis de correlación entre las variables numéricas de nuestro dataset, pudimos observar una correlación alta entre las variables de temperatura (r > 0.7). Debido a que la feature temperatura representa los mismos valores que la feature temp5, sumado a que es la que indica la temperatura del combustible (a diferencia de las temp1,temp2, temp3 y temp4) decidimos quedarnos con esta variable y desechar las otras. Por otra parte, observamos un alta correlación entre volumen y nivel de combustible (r= 0.92), que es lo que se espera ya que la variable volumen se calcula a partir de la variable nivel de combustible. De hecho, esperaríamos obtener una correlación igual a uno, sin embargo esta diferencia en el nivel de correlación podría deberse a un error de cálculo a partir de la tabla de calibración. En este caso, nos quedaríamos con la variable volumen ya que es la que nos aporta la información necesaria para responder a las preguntas planteadas. Por último, existe una correlación alta entre volumen y capacidad (r = 0.82), lo cual es esperable, sin embargo la variable capacidad nos provee información que la variable valumen no nos da, por lo que decidimos mantenerla en nuestro dataset por el momento."
      ]
    },
    {
      "cell_type": "markdown",
      "metadata": {
        "id": "nCrfp_vqpBbJ"
      },
      "source": [
        "### Selección de columnas relevantes"
      ]
    },
    {
      "cell_type": "code",
      "metadata": {
        "id": "qqfPmzhUpp8G"
      },
      "source": [
        "relevant_columns=[]"
      ],
      "execution_count": null,
      "outputs": []
    },
    {
      "cell_type": "markdown",
      "metadata": {
        "id": "9eFLY1tzVPQc"
      },
      "source": [
        "### Uniformidad de tiempo de los datos\n",
        "\n",
        "A partir del siguiente análisis buscamos detectar gaps temporales entre muestras. El código presenta todos aquellos tanques (id_tanques) que presentan gaps entre muestras con más de 1 hora, junto a la media de los gaps y el desvío stándar. Oportunamente ajustaremos el gaps buscado en función de la frecuencia mínima requerida para la predección. "
      ]
    },
    {
      "cell_type": "code",
      "metadata": {
        "id": "MBgnP2rXVaWI"
      },
      "source": [
        "#se arma un array con los id_tanque\n",
        "tanques_unique=df.id_tanque.unique()\n",
        "for tanque in tanques_unique:\n",
        "    # Tomar la diferencia del timestamp y no tener en cuenta la primer fila ya que no tiene diff hacia atrás\n",
        "    deltas = df[df['id_tanque']==tanque].timestamp.diff()[1:]\n",
        "\n",
        "    # Filtrar diffs mayores al valor introducido (pueden ser dias, horas, minutos, etc) \n",
        "    gaps = deltas[deltas > timedelta(hours=1)]\n",
        "\n",
        "    #Resultados\n",
        "    if len(gaps) != 0:\n",
        "        print(f'Tanque ID:{tanque} tiene {len(gaps)} gaps con duración promedio: {gaps.mean()} y std: {gaps.std()}')\n",
        "        #descomentar para ampliar información de los gaps\n",
        "        #for i, g in gaps.iteritems():\n",
        "        #    gap_start = df['timestamp'][i - 1]\n",
        "        #    print(f'Start: {datetime.strftime(gap_start, \"%Y-%m-%d\")} | '\n",
        "        #          f'Duration: {str(g.to_pytimedelta())}')"
      ],
      "execution_count": null,
      "outputs": []
    },
    {
      "cell_type": "markdown",
      "metadata": {
        "id": "6qd5H9kLVaml"
      },
      "source": [
        "### Resampling del timeseries\n",
        "\n",
        "Planteamos el resampleo de series de tiempo sobre distintas ventanas y distintos métodos. Se verá en mayor profundidad este tratamiento, en el práctico de curación."
      ]
    },
    {
      "cell_type": "code",
      "metadata": {
        "id": "X9lLM2dLVfc-"
      },
      "source": [
        "# 10 minutos\n",
        "tanque_resampled = tanque.resample('10T').bfill()\n",
        "tanque_resampled"
      ],
      "execution_count": null,
      "outputs": []
    },
    {
      "cell_type": "code",
      "metadata": {
        "id": "X2C77p8OWCnc"
      },
      "source": [
        "fig = plt.figure(figsize=(15, 7))\n",
        "seaborn.lineplot(\n",
        "    data=tanque_resampled[1400:1500], \n",
        "    y='volumen', \n",
        "    x='timestamp' \n",
        ")\n",
        "plt.ticklabel_format(style='plain', axis='y')\n",
        "seaborn.despine()"
      ],
      "execution_count": null,
      "outputs": []
    },
    {
      "cell_type": "markdown",
      "metadata": {
        "id": "SBssMDqgHB8p"
      },
      "source": [
        "### Agrupación de inventarios"
      ]
    },
    {
      "cell_type": "code",
      "metadata": {
        "id": "jTkiiFrmdDG6"
      },
      "source": [
        ""
      ],
      "execution_count": null,
      "outputs": []
    },
    {
      "cell_type": "markdown",
      "metadata": {
        "id": "4SOjpBQsVezH"
      },
      "source": [
        "### Normalización de valores\n",
        "\n",
        "Ideas: (esto es curación?) \n",
        "- Ajustar por temperatura.\n",
        "- Restar volumen de agua."
      ]
    },
    {
      "cell_type": "code",
      "metadata": {
        "id": "KyFiIch_fOhL"
      },
      "source": [
        ""
      ],
      "execution_count": null,
      "outputs": []
    },
    {
      "cell_type": "markdown",
      "metadata": {
        "id": "4OIBtS8YfPzX"
      },
      "source": [
        "## Análisis\n",
        "\n",
        "Para esta etapa se procede a analizar los distintos inventarios agrupándolos por diferentes criterios."
      ]
    },
    {
      "cell_type": "markdown",
      "metadata": {
        "id": "O9Ybfda4Eq4T"
      },
      "source": [
        "### Descriptores estadísticos de los inventarios"
      ]
    },
    {
      "cell_type": "markdown",
      "metadata": {
        "id": "y4YWNXf4EKzA"
      },
      "source": [
        "### Invetarios sobre centros operativos\n",
        "\n",
        "Se seleccionan algunos centros operativos para analizar el comportamiento de sus inventarios. Para esto, realizamos una selección aleatoria de la columna `id_equipo`."
      ]
    },
    {
      "cell_type": "code",
      "metadata": {
        "id": "5tmYl_N0EfM6"
      },
      "source": [
        ""
      ],
      "execution_count": null,
      "outputs": []
    },
    {
      "cell_type": "markdown",
      "metadata": {
        "id": "RDiRSPF1EhF1"
      },
      "source": [
        "### Patrones de manejo de inventario por industria"
      ]
    },
    {
      "cell_type": "code",
      "metadata": {
        "id": "70pPNpZdEnoI"
      },
      "source": [
        "df_ind=df[[\"volumen\", \"industria\"]].groupby(\"industria\").describe()\n",
        "df_ind"
      ],
      "execution_count": null,
      "outputs": []
    },
    {
      "cell_type": "code",
      "metadata": {
        "id": "QmDqrO1S277x"
      },
      "source": [
        "df_ind.columns = df_ind.columns.droplevel(level=0)\n",
        "df_ind.sort_values(by='50%',ascending=False)"
      ],
      "execution_count": null,
      "outputs": []
    },
    {
      "cell_type": "code",
      "metadata": {
        "id": "dCb6OAdG6mrD"
      },
      "source": [
        "plt.figure(figsize=(12,6))\n",
        "seaborn.boxplot(data=df, x=\"industria\", y=\"volumen\")"
      ],
      "execution_count": null,
      "outputs": []
    },
    {
      "cell_type": "code",
      "metadata": {
        "id": "LlBc3WZTDZWp"
      },
      "source": [
        "df_resa=df.resample(\"1H\", on=\"timestamp\").mean()\n",
        "df_resa\n"
      ],
      "execution_count": null,
      "outputs": []
    },
    {
      "cell_type": "markdown",
      "metadata": {
        "id": "3NGevzju5sgP"
      },
      "source": [
        "### Patrones de manejo de inventario por producto\n"
      ]
    },
    {
      "cell_type": "code",
      "metadata": {
        "id": "6waak0Sr5fft"
      },
      "source": [
        "df_pro=df_fil_out[[\"volumen\", \"nombre_producto\"]].groupby(\"nombre_producto\").describe()\n",
        "df_pro"
      ],
      "execution_count": null,
      "outputs": []
    },
    {
      "cell_type": "code",
      "metadata": {
        "id": "n0bFkRsy587T"
      },
      "source": [
        "df_pro.columns = df_pro.columns.droplevel(level=0)\n",
        "df_pro.sort_values(by='50%',ascending=False)"
      ],
      "execution_count": null,
      "outputs": []
    },
    {
      "cell_type": "code",
      "metadata": {
        "id": "gKYP4X4m6MGE"
      },
      "source": [
        "plt.figure(figsize=(12,6))#ver de agrupar productos, categorizaría primero porque sino el gráfico no dice nada (por ejemplo: diesel, gasoil, nafta y otros para los menos frecuentes)\n",
        "seaborn.boxplot(data=df, x=\"nombre_producto\", y=\"volumen\")"
      ],
      "execution_count": null,
      "outputs": []
    },
    {
      "cell_type": "code",
      "metadata": {
        "id": "m2G8chP6D05h"
      },
      "source": [
        "df_resa=df.resample(\"1H\", on=\"timestamp\").mean()\n",
        "df_resa"
      ],
      "execution_count": null,
      "outputs": []
    },
    {
      "cell_type": "markdown",
      "metadata": {
        "id": "nmwGSO8PFkgj"
      },
      "source": [
        "### Primera y segunda derivada del `volumen` en el tiempo\n",
        "\n",
        "La primer derivada nos da información de los movimientos del `volumen` en el tiempo. Si el líquido sube, la pendiente es positiva, si es negativa, el líquido baja. Valores cercanos a cero nos indican poco movimiento, mientras que valores más grandes nos indican que el líquido se mueve en grandes cantidades."
      ]
    },
    {
      "cell_type": "code",
      "metadata": {
        "id": "c_PLICXPGxDb"
      },
      "source": [
        "# Cálculo de diferencia entre valores para obtener la pendiente\n",
        "df['volumen_diff'] = df.groupby('id_tanque')['volumen'].diff()"
      ],
      "execution_count": null,
      "outputs": []
    },
    {
      "cell_type": "code",
      "metadata": {
        "id": "41x7rfNPUgZr"
      },
      "source": [
        "fig, axes = plt.subplots(2, 1, sharex=True, figsize=(15, 7))\n",
        "seaborn.lineplot(\n",
        "    data=df[df['id_tanque'] == df['id_tanque'].cat.categories[0]][24000:33900], \n",
        "    y='volumen', \n",
        "    x='timestamp',\n",
        "    ax=axes[0]\n",
        ")\n",
        "seaborn.lineplot(\n",
        "    data=df[df['id_tanque'] == df['id_tanque'].cat.categories[0]][24000:33900], \n",
        "    y='volumen_diff', \n",
        "    x='timestamp',\n",
        "    ax=axes[1]\n",
        ")\n",
        "plt.ticklabel_format(style='plain', axis='y')\n",
        "seaborn.despine()"
      ],
      "execution_count": null,
      "outputs": []
    },
    {
      "cell_type": "markdown",
      "metadata": {
        "id": "R3lVQ7uUG1rH"
      },
      "source": [
        "La segunda derivada nos puede indicar cuál es la aceleración del movimiento del tanque."
      ]
    },
    {
      "cell_type": "code",
      "metadata": {
        "id": "ZduZXg87G17M"
      },
      "source": [
        "# Cálculo de diferencia entre diferencias para obtener la aceleración\n",
        "df['volumen_second_diff'] = df.groupby('id_tanque')['volumen_diff'].diff()"
      ],
      "execution_count": null,
      "outputs": []
    },
    {
      "cell_type": "code",
      "metadata": {
        "id": "hNXGuTtFVIYS"
      },
      "source": [
        "fig, axes = plt.subplots(2, 1, sharex=True, figsize=(15, 7))\n",
        "seaborn.lineplot(\n",
        "    data=df[df['id_tanque'] == df['id_tanque'].cat.categories[0]][24000:33900], \n",
        "    y='volumen', \n",
        "    x='timestamp',\n",
        "    ax=axes[0]\n",
        ")\n",
        "seaborn.lineplot(\n",
        "    data=df[df['id_tanque'] == df['id_tanque'].cat.categories[0]][24000:33900], \n",
        "    y='volumen_second_diff', \n",
        "    x='timestamp',\n",
        "    ax=axes[1]\n",
        ")\n",
        "plt.ticklabel_format(style='plain', axis='y')\n",
        "seaborn.despine()"
      ],
      "execution_count": null,
      "outputs": []
    },
    {
      "cell_type": "markdown",
      "metadata": {
        "id": "TPvgjzFYHEcM"
      },
      "source": [
        "### Consumos por unidad de tiempo por centro operativo\n",
        "\n",
        "Se seleccionan algunos centros operativos.\n",
        "\n",
        "Para poder calcular los consumos, debemos sumar todas las diferencias negativas por tanque. Intentemos sumar primero utilizando la columna calculada `volumen_diff`.\n",
        "\n",
        "Elegimos distintos rangos de tiempo para calcular el consumo."
      ]
    },
    {
      "cell_type": "code",
      "metadata": {
        "id": "NxsqLw8jcxjq"
      },
      "source": [
        "df['period_hour'] = df['timestamp'].dt.to_period('H')"
      ],
      "execution_count": null,
      "outputs": []
    },
    {
      "cell_type": "code",
      "metadata": {
        "id": "fkVFN042esE6"
      },
      "source": [
        "# Nos quedamos con los valores negativos para facilitar la suma\n",
        "df['neg_volumen_diff'] = numpy.where(\n",
        "    df['volumen_diff'] < 0, \n",
        "    df['volumen_diff'].abs(), \n",
        "    0\n",
        ")"
      ],
      "execution_count": null,
      "outputs": []
    },
    {
      "cell_type": "code",
      "metadata": {
        "id": "2cOo2_0PHYde"
      },
      "source": [
        "df['hourly_consumos'] = df.groupby('id_tanque')['neg_volumen_diff'].sum()"
      ],
      "execution_count": null,
      "outputs": []
    },
    {
      "cell_type": "code",
      "metadata": {
        "id": "zL_L4Bx8azAH"
      },
      "source": [
        "fig = plt.figure(figsize=(15, 7))\n",
        "seaborn.boxplot(\n",
        "    y=df[df['id_tanque'] == df['id_tanque'].cat.categories[0]][24000:33900]['hourly_consumos'], \n",
        "    x=df[df['id_tanque'] == df['id_tanque'].cat.categories[0]][24000:33900]['period_hour']\n",
        ")\n",
        "plt.ticklabel_format(style='plain', axis='y')\n",
        "seaborn.despine()"
      ],
      "execution_count": null,
      "outputs": []
    },
    {
      "cell_type": "markdown",
      "metadata": {
        "id": "otz_8uHDUTFr"
      },
      "source": [
        "A veces puede haber movimientos en los tanques, por lo tanto, no sería correcto utilizar las diferencias entre puntos sin ningún tratamiento. Necesitamos suavizar los registros para obtener las diferencias."
      ]
    },
    {
      "cell_type": "code",
      "metadata": {
        "id": "ipoIEq2vV5U5"
      },
      "source": [
        "df['moving_avg'] = df.groupby('id_tanque')['volumen'].transform(\n",
        "    lambda x: x.rolling(window=5, min_periods=1, center=True).mean()\n",
        ")"
      ],
      "execution_count": null,
      "outputs": []
    },
    {
      "cell_type": "code",
      "metadata": {
        "id": "J_WuafMxWGp8"
      },
      "source": [
        "df['volumen_diff'] = df.groupby('id_tanque')['moving_avg'].diff()"
      ],
      "execution_count": null,
      "outputs": []
    },
    {
      "cell_type": "code",
      "metadata": {
        "id": "xxVFKj9hWOLT"
      },
      "source": [
        ""
      ],
      "execution_count": null,
      "outputs": []
    },
    {
      "cell_type": "markdown",
      "metadata": {
        "id": "08El9yzsHZXn"
      },
      "source": [
        "### Patrones de consumo por industria"
      ]
    },
    {
      "cell_type": "code",
      "metadata": {
        "id": "fAV8lxyNHiwQ"
      },
      "source": [
        ""
      ],
      "execution_count": null,
      "outputs": []
    },
    {
      "cell_type": "markdown",
      "metadata": {
        "id": "t3TpMfWJHlny"
      },
      "source": [
        "### Análisis estadísitico de los consumos en general"
      ]
    },
    {
      "cell_type": "code",
      "metadata": {
        "id": "MQE9PYDbHu-d"
      },
      "source": [
        ""
      ],
      "execution_count": null,
      "outputs": []
    },
    {
      "cell_type": "markdown",
      "metadata": {
        "id": "RTtF8BsEHvP-"
      },
      "source": [
        "### Análisis estadístico de los consumos por industria"
      ]
    },
    {
      "cell_type": "markdown",
      "metadata": {
        "id": "RmiwanjhGzFk"
      },
      "source": [
        "\n",
        "Ver si los patrones de consumo de minería y telecomunicaciones son diferentes. Deberíamos explica por qué creemos encontrar diferencia entre estas dos industrias? Quizas para minería se necesite más combustible ya que se utilizan grandes maquinarias que insumen más combustible que las maquinarias que se emplean en telecomunicaciones. Igual con distintos productos, por ejemplo:  gas y nafta, el gas es más barato que la nafta por lo que podríamos esperar un mayor consumo de este "
      ]
    },
    {
      "cell_type": "markdown",
      "metadata": {
        "id": "TSZ63JZdH6-G"
      },
      "source": [
        "### Media móvil de inventarios para cada indsutria\n",
        "\n",
        "Se selecciona un centro operativo por industria para realizar el análisis."
      ]
    },
    {
      "cell_type": "code",
      "metadata": {
        "id": "oLdfabGbH7du"
      },
      "source": [
        "# Ventana numérica"
      ],
      "execution_count": null,
      "outputs": []
    },
    {
      "cell_type": "code",
      "metadata": {
        "id": "tZHuTUmIItTo"
      },
      "source": [
        "# Ventana por tiempo"
      ],
      "execution_count": null,
      "outputs": []
    },
    {
      "cell_type": "markdown",
      "metadata": {
        "id": "x5jE1JUKIQ4B"
      },
      "source": [
        "### Media móvil de consumos para cada industria"
      ]
    },
    {
      "cell_type": "code",
      "metadata": {
        "id": "DYxmsObgIcZs"
      },
      "source": [
        "# Ventana numérica"
      ],
      "execution_count": null,
      "outputs": []
    },
    {
      "cell_type": "code",
      "metadata": {
        "id": "IgrybdMTIwYM"
      },
      "source": [
        "# Ventana de tiempo"
      ],
      "execution_count": null,
      "outputs": []
    },
    {
      "cell_type": "markdown",
      "metadata": {
        "id": "l06iPYbdfpfk"
      },
      "source": [
        "## Conclusiones\n",
        "\n",
        "Cómo harían un cálculo simple para estimar inventarios en el corto plazo?\n",
        "\n",
        "Ideas:\n",
        "- Repetir Último valor visto.\n",
        "- Drift (media de últimos valores vistos)\n",
        "- Última pendiente\n",
        "- Media movil de últimas pendientes\n",
        "- última pendiente, y aplicar última aceleración (d' y d'')\n",
        "- Media movil de últimas pendientes y aplicar mm de última aceleración\n",
        "- Conjunto de últimos valores + último valor "
      ]
    },
    {
      "cell_type": "markdown",
      "metadata": {
        "id": "wM0-K07GI1f3"
      },
      "source": [
        "### Repetición del último valor visto en el tiempo."
      ]
    },
    {
      "cell_type": "code",
      "metadata": {
        "id": "pkOGRnSKsTtD"
      },
      "source": [
        ""
      ],
      "execution_count": null,
      "outputs": []
    },
    {
      "cell_type": "markdown",
      "metadata": {
        "id": "hEW3JKQ1I8LX"
      },
      "source": [
        "### Último valor visto y media móvil"
      ]
    },
    {
      "cell_type": "code",
      "metadata": {
        "id": "Ej-tIW6PJiZx"
      },
      "source": [
        ""
      ],
      "execution_count": null,
      "outputs": []
    },
    {
      "cell_type": "markdown",
      "metadata": {
        "id": "y0xLs9PEVeQG"
      },
      "source": [
        "## Notas"
      ]
    },
    {
      "cell_type": "markdown",
      "metadata": {
        "id": "NDfWt_63Fia8"
      },
      "source": [
        "Ordenar:  \n",
        "Limpieza\n",
        "1. Valores faltantes\n",
        " - Ver volúmenes nulos si hay\n",
        " \n",
        "2. Outliers\n",
        "  - Volúmenes negativos (quitar)\n",
        "  - Volúmenes por encima de la capacidad \n",
        "  - Volúmenes no numéricos\n",
        "  - Tanques con pocos registros\n",
        "  - Volúmenes que se salen de cierto rango alrededor de la media móvil (intervalos de confianza? porcentajes? ver histogramas?)\n",
        "  - Registros con códigos de error (definidas en tabla)\n",
        "  - Registros con ecos 0 (tener en cuenta sondas de presión)\n",
        "  - Temp5 fuera de rango (idem anterior media movil? intervalos?)\n",
        "  - vbat1/2 fuera de rango (idem anterior)\n",
        "  - Capacidades negativas, muy chicas. Ver histograma\n",
        "\n",
        "3. No se encuentran uniformes\n",
        "  - Graficar un par donde se vean\n",
        "  - Calcular diff de tiempos, distribucion.\n",
        "\n",
        "4. Resample\n",
        "  - interpolación (lineal? cúbica?)\n",
        "  - con bfill, etc, mostrar que no está bueno.\n",
        "  - Interpolación en espacios de tiempo muy largos.\n",
        "\n",
        "5. Agrupación\n",
        "  - Tanques\n",
        "\n",
        "6. Normalizar valores\n",
        "  - Variación por temperatura?\n",
        "  - Variación por cantidad de agua?\n",
        "\n",
        "Análisis\n",
        "1. Gráfico de centros op seleccionados.\n",
        "2. Patrones por industria (análisis que hizo Lau)\n",
        "3. Descriptores estadísticos\n",
        "  - Medidas de centralización\n",
        "  - Medidas de dispersión\n",
        "4. Manejo de inventarios por industria (idem 2?) (Lau) \n",
        "5. Correlación de features (analisis de Lau)\n",
        "6. Derivada primera y derivada segunda\n",
        "  - Derivada primera nos dice si el líquido sube o baja.\n",
        "  - Derivada segunda, velocidad de crecimiento/decr? aceleración de crec/decr?\n",
        "7. Consumo por unidad de tiempo por centro operativo.\n",
        "  - Suma de diffs negativos absoluto? Quizás sobre media movil. Ver dispersión de media movil\n",
        "8. Patrones de consumo por industria.\n",
        "9. Descriptores estadísticos consumo general y por industria.\n",
        "10. Media móvil de centros operativos por industria.\n",
        "11. Media móvil de consumos de centros operativos por industria.\n",
        "\n",
        "\n",
        "\n",
        "===================================\n",
        "\n",
        "Análisis:\n",
        "- Autocorrelación (correlacion para series temporales sobre los lags)\n",
        "\n",
        "Plots:\n",
        "- Time plot\n",
        "- Seasonal plot\n",
        "- Polar plot\n",
        "- Lag plot (scatter?)\n",
        "\n",
        "Predicciones naïve:\n"
      ]
    }
  ]
}